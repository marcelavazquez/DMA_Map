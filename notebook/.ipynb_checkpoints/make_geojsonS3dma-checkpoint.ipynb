{
 "cells": [
  {
   "cell_type": "code",
   "execution_count": 197,
   "id": "118aca0d",
   "metadata": {},
   "outputs": [],
   "source": [
    "import s3fs\n",
    "import pandas as pd\n",
    "import warnings\n",
    "warnings.filterwarnings('ignore')\n",
    "import geopandas as gp"
   ]
  },
  {
   "cell_type": "code",
   "execution_count": 198,
   "id": "c2ac8ce1",
   "metadata": {},
   "outputs": [],
   "source": [
    "# csv file\n",
    "data_dma = pd.read_csv('s3://aki-dmp/rnd/data-science/vcr2/dma_vcr_bayes.csv')"
   ]
  },
  {
   "cell_type": "code",
   "execution_count": 199,
   "id": "4312f7f4",
   "metadata": {
    "scrolled": true
   },
   "outputs": [
    {
     "data": {
      "text/html": [
       "<div>\n",
       "<style scoped>\n",
       "    .dataframe tbody tr th:only-of-type {\n",
       "        vertical-align: middle;\n",
       "    }\n",
       "\n",
       "    .dataframe tbody tr th {\n",
       "        vertical-align: top;\n",
       "    }\n",
       "\n",
       "    .dataframe thead th {\n",
       "        text-align: right;\n",
       "    }\n",
       "</style>\n",
       "<table border=\"1\" class=\"dataframe\">\n",
       "  <thead>\n",
       "    <tr style=\"text-align: right;\">\n",
       "      <th></th>\n",
       "      <th>dma</th>\n",
       "      <th>vcr</th>\n",
       "    </tr>\n",
       "  </thead>\n",
       "  <tbody>\n",
       "    <tr>\n",
       "      <th>0</th>\n",
       "      <td>0</td>\n",
       "      <td>1.613161</td>\n",
       "    </tr>\n",
       "    <tr>\n",
       "      <th>1</th>\n",
       "      <td>500</td>\n",
       "      <td>1.921218</td>\n",
       "    </tr>\n",
       "    <tr>\n",
       "      <th>2</th>\n",
       "      <td>501</td>\n",
       "      <td>2.259815</td>\n",
       "    </tr>\n",
       "    <tr>\n",
       "      <th>3</th>\n",
       "      <td>503</td>\n",
       "      <td>1.663627</td>\n",
       "    </tr>\n",
       "    <tr>\n",
       "      <th>4</th>\n",
       "      <td>504</td>\n",
       "      <td>2.231649</td>\n",
       "    </tr>\n",
       "    <tr>\n",
       "      <th>...</th>\n",
       "      <td>...</td>\n",
       "      <td>...</td>\n",
       "    </tr>\n",
       "    <tr>\n",
       "      <th>119</th>\n",
       "      <td>770</td>\n",
       "      <td>1.925261</td>\n",
       "    </tr>\n",
       "    <tr>\n",
       "      <th>120</th>\n",
       "      <td>771</td>\n",
       "      <td>1.741088</td>\n",
       "    </tr>\n",
       "    <tr>\n",
       "      <th>121</th>\n",
       "      <td>790</td>\n",
       "      <td>1.896585</td>\n",
       "    </tr>\n",
       "    <tr>\n",
       "      <th>122</th>\n",
       "      <td>862</td>\n",
       "      <td>1.952375</td>\n",
       "    </tr>\n",
       "    <tr>\n",
       "      <th>123</th>\n",
       "      <td>866</td>\n",
       "      <td>1.846389</td>\n",
       "    </tr>\n",
       "  </tbody>\n",
       "</table>\n",
       "<p>124 rows × 2 columns</p>\n",
       "</div>"
      ],
      "text/plain": [
       "     dma       vcr\n",
       "0      0  1.613161\n",
       "1    500  1.921218\n",
       "2    501  2.259815\n",
       "3    503  1.663627\n",
       "4    504  2.231649\n",
       "..   ...       ...\n",
       "119  770  1.925261\n",
       "120  771  1.741088\n",
       "121  790  1.896585\n",
       "122  862  1.952375\n",
       "123  866  1.846389\n",
       "\n",
       "[124 rows x 2 columns]"
      ]
     },
     "execution_count": 199,
     "metadata": {},
     "output_type": "execute_result"
    }
   ],
   "source": [
    "data_dma"
   ]
  },
  {
   "cell_type": "code",
   "execution_count": 200,
   "id": "d2796bc1",
   "metadata": {},
   "outputs": [
    {
     "data": {
      "text/plain": [
       "dma    0\n",
       "vcr    0\n",
       "dtype: int64"
      ]
     },
     "execution_count": 200,
     "metadata": {},
     "output_type": "execute_result"
    }
   ],
   "source": [
    "data_dma.isnull().sum()"
   ]
  },
  {
   "cell_type": "code",
   "execution_count": 201,
   "id": "048af6c2",
   "metadata": {},
   "outputs": [
    {
     "data": {
      "text/plain": [
       "dma      int64\n",
       "vcr    float64\n",
       "dtype: object"
      ]
     },
     "execution_count": 201,
     "metadata": {},
     "output_type": "execute_result"
    }
   ],
   "source": [
    "data_dma.dtypes"
   ]
  },
  {
   "cell_type": "code",
   "execution_count": 202,
   "id": "7913cd16",
   "metadata": {},
   "outputs": [
    {
     "data": {
      "text/html": [
       "<div>\n",
       "<style scoped>\n",
       "    .dataframe tbody tr th:only-of-type {\n",
       "        vertical-align: middle;\n",
       "    }\n",
       "\n",
       "    .dataframe tbody tr th {\n",
       "        vertical-align: top;\n",
       "    }\n",
       "\n",
       "    .dataframe thead th {\n",
       "        text-align: right;\n",
       "    }\n",
       "</style>\n",
       "<table border=\"1\" class=\"dataframe\">\n",
       "  <thead>\n",
       "    <tr style=\"text-align: right;\">\n",
       "      <th></th>\n",
       "      <th>dma</th>\n",
       "      <th>vcr</th>\n",
       "    </tr>\n",
       "  </thead>\n",
       "  <tbody>\n",
       "    <tr>\n",
       "      <th>0</th>\n",
       "      <td>0</td>\n",
       "      <td>1.613161</td>\n",
       "    </tr>\n",
       "    <tr>\n",
       "      <th>1</th>\n",
       "      <td>500</td>\n",
       "      <td>1.921218</td>\n",
       "    </tr>\n",
       "    <tr>\n",
       "      <th>2</th>\n",
       "      <td>501</td>\n",
       "      <td>2.259815</td>\n",
       "    </tr>\n",
       "    <tr>\n",
       "      <th>3</th>\n",
       "      <td>503</td>\n",
       "      <td>1.663627</td>\n",
       "    </tr>\n",
       "    <tr>\n",
       "      <th>4</th>\n",
       "      <td>504</td>\n",
       "      <td>2.231649</td>\n",
       "    </tr>\n",
       "  </tbody>\n",
       "</table>\n",
       "</div>"
      ],
      "text/plain": [
       "   dma       vcr\n",
       "0    0  1.613161\n",
       "1  500  1.921218\n",
       "2  501  2.259815\n",
       "3  503  1.663627\n",
       "4  504  2.231649"
      ]
     },
     "execution_count": 202,
     "metadata": {},
     "output_type": "execute_result"
    }
   ],
   "source": [
    "data_dma.head()"
   ]
  },
  {
   "cell_type": "code",
   "execution_count": 203,
   "id": "042c894a",
   "metadata": {},
   "outputs": [],
   "source": [
    "values = data_dma.vcr.unique()"
   ]
  },
  {
   "cell_type": "code",
   "execution_count": 204,
   "id": "47c7eb9d",
   "metadata": {},
   "outputs": [],
   "source": [
    "values.sort()"
   ]
  },
  {
   "cell_type": "code",
   "execution_count": 205,
   "id": "1d93645b",
   "metadata": {},
   "outputs": [
    {
     "data": {
      "text/plain": [
       "array([1.43086008, 1.49938311, 1.50312056, 1.51406026, 1.52013466,\n",
       "       1.55235868, 1.55327986, 1.58410589, 1.59687917, 1.61316095,\n",
       "       1.61351964, 1.62386579, 1.64188258, 1.64839777, 1.66362738,\n",
       "       1.700218  , 1.71317073, 1.7410883 , 1.74157571, 1.74814887,\n",
       "       1.74912103, 1.75463128, 1.76530055, 1.78626192, 1.78857275,\n",
       "       1.79151714, 1.79255482, 1.79258064, 1.79649759, 1.79916134,\n",
       "       1.80956635, 1.81113174, 1.81314003, 1.83827389, 1.84358419,\n",
       "       1.8457272 , 1.84638909, 1.85732698, 1.85778711, 1.86825099,\n",
       "       1.86923117, 1.87154074, 1.87175921, 1.87597884, 1.88039875,\n",
       "       1.89248504, 1.89658484, 1.89722683, 1.89878371, 1.8997069 ,\n",
       "       1.90981106, 1.91083619, 1.91113077, 1.91303004, 1.91682993,\n",
       "       1.91781581, 1.92121767, 1.92163738, 1.92255212, 1.9252614 ,\n",
       "       1.92690783, 1.92725755, 1.93192915, 1.93661442, 1.93688658,\n",
       "       1.93784609, 1.94001727, 1.94379959, 1.94502363, 1.94536655,\n",
       "       1.94625174, 1.94791803, 1.95102101, 1.95214125, 1.95237543,\n",
       "       1.9541689 , 1.9546118 , 1.96183823, 1.96529614, 1.96572573,\n",
       "       1.9663554 , 1.973818  , 1.97440072, 1.97525194, 1.97567582,\n",
       "       1.97611557, 1.97726046, 1.98473472, 1.98516606, 1.98646758,\n",
       "       1.98878277, 1.99751302, 1.99815186, 1.99995783, 2.00141303,\n",
       "       2.00843378, 2.00888112, 2.01662263, 2.02338295, 2.03818641,\n",
       "       2.04321909, 2.04441709, 2.05023761, 2.0558607 , 2.0560026 ,\n",
       "       2.06609268, 2.07348089, 2.07747354, 2.07764338, 2.08076154,\n",
       "       2.08853659, 2.09985588, 2.12629425, 2.17609105, 2.17694923,\n",
       "       2.18717971, 2.21809289, 2.23164884, 2.25981511, 2.3884987 ,\n",
       "       2.39419796, 2.74664187])"
      ]
     },
     "execution_count": 205,
     "metadata": {},
     "output_type": "execute_result"
    }
   ],
   "source": [
    "values"
   ]
  },
  {
   "cell_type": "code",
   "execution_count": 206,
   "id": "11d104a5",
   "metadata": {},
   "outputs": [
    {
     "data": {
      "text/plain": [
       "2.746641874507014"
      ]
     },
     "execution_count": 206,
     "metadata": {},
     "output_type": "execute_result"
    }
   ],
   "source": [
    "data_dma.vcr.max()"
   ]
  },
  {
   "cell_type": "code",
   "execution_count": 207,
   "id": "e43c9f47",
   "metadata": {},
   "outputs": [
    {
     "data": {
      "text/plain": [
       "1.43086007598443"
      ]
     },
     "execution_count": 207,
     "metadata": {},
     "output_type": "execute_result"
    }
   ],
   "source": [
    "data_dma.vcr.min()"
   ]
  },
  {
   "cell_type": "markdown",
   "id": "cddd6d76",
   "metadata": {},
   "source": [
    "## Shape File"
   ]
  },
  {
   "cell_type": "code",
   "execution_count": 208,
   "id": "47446296",
   "metadata": {},
   "outputs": [],
   "source": [
    "polygons = gp.read_file('s3://aki-dmp/rnd/data-science/dma_map/shape_files/dma/NatDMA.shp')"
   ]
  },
  {
   "cell_type": "code",
   "execution_count": 209,
   "id": "bb7e0e57",
   "metadata": {
    "scrolled": true
   },
   "outputs": [
    {
     "data": {
      "text/html": [
       "<div>\n",
       "<style scoped>\n",
       "    .dataframe tbody tr th:only-of-type {\n",
       "        vertical-align: middle;\n",
       "    }\n",
       "\n",
       "    .dataframe tbody tr th {\n",
       "        vertical-align: top;\n",
       "    }\n",
       "\n",
       "    .dataframe thead th {\n",
       "        text-align: right;\n",
       "    }\n",
       "</style>\n",
       "<table border=\"1\" class=\"dataframe\">\n",
       "  <thead>\n",
       "    <tr style=\"text-align: right;\">\n",
       "      <th></th>\n",
       "      <th>Key</th>\n",
       "      <th>AFFGEOID</th>\n",
       "      <th>GEOID</th>\n",
       "      <th>NAME</th>\n",
       "      <th>AreaSqKm</th>\n",
       "      <th>AreaSqMi</th>\n",
       "      <th>CentroidX</th>\n",
       "      <th>CentroidY</th>\n",
       "      <th>LengthKm</th>\n",
       "      <th>LengthMi</th>\n",
       "      <th>NumParts</th>\n",
       "      <th>PeanoKey</th>\n",
       "      <th>ObjType</th>\n",
       "      <th>geometry</th>\n",
       "    </tr>\n",
       "  </thead>\n",
       "  <tbody>\n",
       "    <tr>\n",
       "      <th>0</th>\n",
       "      <td>000</td>\n",
       "      <td>0100000US</td>\n",
       "      <td>US</td>\n",
       "      <td>National</td>\n",
       "      <td>9.366258e+06</td>\n",
       "      <td>3.616333e+06</td>\n",
       "      <td>-112.935156</td>\n",
       "      <td>45.699112</td>\n",
       "      <td>66355.811893</td>\n",
       "      <td>41231.589948</td>\n",
       "      <td>290</td>\n",
       "      <td>-61591239704847306</td>\n",
       "      <td>Polygon</td>\n",
       "      <td>MULTIPOLYGON (((179.48246 51.98283, 179.48656 ...</td>\n",
       "    </tr>\n",
       "    <tr>\n",
       "      <th>1</th>\n",
       "      <td>500</td>\n",
       "      <td>None</td>\n",
       "      <td>None</td>\n",
       "      <td>Portland-Auburn ME</td>\n",
       "      <td>2.915956e+04</td>\n",
       "      <td>1.125857e+04</td>\n",
       "      <td>-70.571171</td>\n",
       "      <td>44.341957</td>\n",
       "      <td>4151.849611</td>\n",
       "      <td>2579.839743</td>\n",
       "      <td>769</td>\n",
       "      <td>-61567322892545262</td>\n",
       "      <td>Polygon</td>\n",
       "      <td>MULTIPOLYGON (((-70.74656 43.08286, -70.74657 ...</td>\n",
       "    </tr>\n",
       "    <tr>\n",
       "      <th>2</th>\n",
       "      <td>501</td>\n",
       "      <td>None</td>\n",
       "      <td>None</td>\n",
       "      <td>New York NY</td>\n",
       "      <td>3.052699e+04</td>\n",
       "      <td>1.178654e+04</td>\n",
       "      <td>-74.176949</td>\n",
       "      <td>41.116231</td>\n",
       "      <td>4792.535959</td>\n",
       "      <td>2977.943782</td>\n",
       "      <td>614</td>\n",
       "      <td>-61568174549266471</td>\n",
       "      <td>Polygon</td>\n",
       "      <td>MULTIPOLYGON (((-74.34928 39.51060, -74.34940 ...</td>\n",
       "    </tr>\n",
       "    <tr>\n",
       "      <th>3</th>\n",
       "      <td>502</td>\n",
       "      <td>None</td>\n",
       "      <td>None</td>\n",
       "      <td>Binghamton NY</td>\n",
       "      <td>9.335196e+03</td>\n",
       "      <td>3.604339e+03</td>\n",
       "      <td>-75.491063</td>\n",
       "      <td>42.260486</td>\n",
       "      <td>620.411103</td>\n",
       "      <td>385.505587</td>\n",
       "      <td>1</td>\n",
       "      <td>-61567724642116565</td>\n",
       "      <td>Polygon</td>\n",
       "      <td>POLYGON ((-74.42828 42.34915, -74.42832 42.349...</td>\n",
       "    </tr>\n",
       "    <tr>\n",
       "      <th>4</th>\n",
       "      <td>503</td>\n",
       "      <td>None</td>\n",
       "      <td>None</td>\n",
       "      <td>Macon GA</td>\n",
       "      <td>2.269162e+04</td>\n",
       "      <td>8.761282e+03</td>\n",
       "      <td>-83.332901</td>\n",
       "      <td>32.572126</td>\n",
       "      <td>895.422777</td>\n",
       "      <td>556.389919</td>\n",
       "      <td>2</td>\n",
       "      <td>-61577340522549115</td>\n",
       "      <td>Polygon</td>\n",
       "      <td>MULTIPOLYGON (((-84.36292 32.38945, -84.36404 ...</td>\n",
       "    </tr>\n",
       "  </tbody>\n",
       "</table>\n",
       "</div>"
      ],
      "text/plain": [
       "   Key   AFFGEOID GEOID                NAME      AreaSqKm      AreaSqMi  \\\n",
       "0  000  0100000US    US            National  9.366258e+06  3.616333e+06   \n",
       "1  500       None  None  Portland-Auburn ME  2.915956e+04  1.125857e+04   \n",
       "2  501       None  None         New York NY  3.052699e+04  1.178654e+04   \n",
       "3  502       None  None       Binghamton NY  9.335196e+03  3.604339e+03   \n",
       "4  503       None  None            Macon GA  2.269162e+04  8.761282e+03   \n",
       "\n",
       "    CentroidX  CentroidY      LengthKm      LengthMi  NumParts  \\\n",
       "0 -112.935156  45.699112  66355.811893  41231.589948       290   \n",
       "1  -70.571171  44.341957   4151.849611   2579.839743       769   \n",
       "2  -74.176949  41.116231   4792.535959   2977.943782       614   \n",
       "3  -75.491063  42.260486    620.411103    385.505587         1   \n",
       "4  -83.332901  32.572126    895.422777    556.389919         2   \n",
       "\n",
       "            PeanoKey  ObjType  \\\n",
       "0 -61591239704847306  Polygon   \n",
       "1 -61567322892545262  Polygon   \n",
       "2 -61568174549266471  Polygon   \n",
       "3 -61567724642116565  Polygon   \n",
       "4 -61577340522549115  Polygon   \n",
       "\n",
       "                                            geometry  \n",
       "0  MULTIPOLYGON (((179.48246 51.98283, 179.48656 ...  \n",
       "1  MULTIPOLYGON (((-70.74656 43.08286, -70.74657 ...  \n",
       "2  MULTIPOLYGON (((-74.34928 39.51060, -74.34940 ...  \n",
       "3  POLYGON ((-74.42828 42.34915, -74.42832 42.349...  \n",
       "4  MULTIPOLYGON (((-84.36292 32.38945, -84.36404 ...  "
      ]
     },
     "execution_count": 209,
     "metadata": {},
     "output_type": "execute_result"
    }
   ],
   "source": [
    "polygons.head()"
   ]
  },
  {
   "cell_type": "code",
   "execution_count": 210,
   "id": "73977bfc",
   "metadata": {},
   "outputs": [],
   "source": [
    "# remove the national dma aka the first row\n",
    "polygons = polygons.iloc[1: , :]"
   ]
  },
  {
   "cell_type": "code",
   "execution_count": 211,
   "id": "84046ad4",
   "metadata": {},
   "outputs": [
    {
     "data": {
      "text/html": [
       "<div>\n",
       "<style scoped>\n",
       "    .dataframe tbody tr th:only-of-type {\n",
       "        vertical-align: middle;\n",
       "    }\n",
       "\n",
       "    .dataframe tbody tr th {\n",
       "        vertical-align: top;\n",
       "    }\n",
       "\n",
       "    .dataframe thead th {\n",
       "        text-align: right;\n",
       "    }\n",
       "</style>\n",
       "<table border=\"1\" class=\"dataframe\">\n",
       "  <thead>\n",
       "    <tr style=\"text-align: right;\">\n",
       "      <th></th>\n",
       "      <th>Key</th>\n",
       "      <th>AFFGEOID</th>\n",
       "      <th>GEOID</th>\n",
       "      <th>NAME</th>\n",
       "      <th>AreaSqKm</th>\n",
       "      <th>AreaSqMi</th>\n",
       "      <th>CentroidX</th>\n",
       "      <th>CentroidY</th>\n",
       "      <th>LengthKm</th>\n",
       "      <th>LengthMi</th>\n",
       "      <th>NumParts</th>\n",
       "      <th>PeanoKey</th>\n",
       "      <th>ObjType</th>\n",
       "      <th>geometry</th>\n",
       "    </tr>\n",
       "  </thead>\n",
       "  <tbody>\n",
       "    <tr>\n",
       "      <th>1</th>\n",
       "      <td>500</td>\n",
       "      <td>None</td>\n",
       "      <td>None</td>\n",
       "      <td>Portland-Auburn ME</td>\n",
       "      <td>29159.563396</td>\n",
       "      <td>11258.570369</td>\n",
       "      <td>-70.571171</td>\n",
       "      <td>44.341957</td>\n",
       "      <td>4151.849611</td>\n",
       "      <td>2579.839743</td>\n",
       "      <td>769</td>\n",
       "      <td>-61567322892545262</td>\n",
       "      <td>Polygon</td>\n",
       "      <td>MULTIPOLYGON (((-70.74656 43.08286, -70.74657 ...</td>\n",
       "    </tr>\n",
       "    <tr>\n",
       "      <th>2</th>\n",
       "      <td>501</td>\n",
       "      <td>None</td>\n",
       "      <td>None</td>\n",
       "      <td>New York NY</td>\n",
       "      <td>30526.990734</td>\n",
       "      <td>11786.537016</td>\n",
       "      <td>-74.176949</td>\n",
       "      <td>41.116231</td>\n",
       "      <td>4792.535959</td>\n",
       "      <td>2977.943782</td>\n",
       "      <td>614</td>\n",
       "      <td>-61568174549266471</td>\n",
       "      <td>Polygon</td>\n",
       "      <td>MULTIPOLYGON (((-74.34928 39.51060, -74.34940 ...</td>\n",
       "    </tr>\n",
       "  </tbody>\n",
       "</table>\n",
       "</div>"
      ],
      "text/plain": [
       "   Key AFFGEOID GEOID                NAME      AreaSqKm      AreaSqMi  \\\n",
       "1  500     None  None  Portland-Auburn ME  29159.563396  11258.570369   \n",
       "2  501     None  None         New York NY  30526.990734  11786.537016   \n",
       "\n",
       "   CentroidX  CentroidY     LengthKm     LengthMi  NumParts  \\\n",
       "1 -70.571171  44.341957  4151.849611  2579.839743       769   \n",
       "2 -74.176949  41.116231  4792.535959  2977.943782       614   \n",
       "\n",
       "            PeanoKey  ObjType  \\\n",
       "1 -61567322892545262  Polygon   \n",
       "2 -61568174549266471  Polygon   \n",
       "\n",
       "                                            geometry  \n",
       "1  MULTIPOLYGON (((-70.74656 43.08286, -70.74657 ...  \n",
       "2  MULTIPOLYGON (((-74.34928 39.51060, -74.34940 ...  "
      ]
     },
     "execution_count": 211,
     "metadata": {},
     "output_type": "execute_result"
    }
   ],
   "source": [
    "polygons.head(2)"
   ]
  },
  {
   "cell_type": "code",
   "execution_count": 212,
   "id": "9b617cf9",
   "metadata": {},
   "outputs": [
    {
     "data": {
      "text/plain": [
       "Key            object\n",
       "AFFGEOID       object\n",
       "GEOID          object\n",
       "NAME           object\n",
       "AreaSqKm      float64\n",
       "AreaSqMi      float64\n",
       "CentroidX     float64\n",
       "CentroidY     float64\n",
       "LengthKm      float64\n",
       "LengthMi      float64\n",
       "NumParts        int64\n",
       "PeanoKey        int64\n",
       "ObjType        object\n",
       "geometry     geometry\n",
       "dtype: object"
      ]
     },
     "execution_count": 212,
     "metadata": {},
     "output_type": "execute_result"
    }
   ],
   "source": [
    "polygons.dtypes"
   ]
  },
  {
   "cell_type": "code",
   "execution_count": 213,
   "id": "855ecc8e",
   "metadata": {},
   "outputs": [],
   "source": [
    "polygons['Key'] = polygons['Key'].apply(int)"
   ]
  },
  {
   "cell_type": "markdown",
   "id": "4cf2a2ad",
   "metadata": {},
   "source": [
    "### Merge"
   ]
  },
  {
   "cell_type": "code",
   "execution_count": 214,
   "id": "d06424e1",
   "metadata": {},
   "outputs": [],
   "source": [
    "# Change name of column STUSPS to location_state_id\n",
    "polygons = polygons.rename(columns={'Key':'dma'})"
   ]
  },
  {
   "cell_type": "code",
   "execution_count": 215,
   "id": "91e0ce89",
   "metadata": {},
   "outputs": [
    {
     "data": {
      "text/plain": [
       "(124, 2)"
      ]
     },
     "execution_count": 215,
     "metadata": {},
     "output_type": "execute_result"
    }
   ],
   "source": [
    "data_dma.shape"
   ]
  },
  {
   "cell_type": "code",
   "execution_count": 216,
   "id": "8b4a4d97",
   "metadata": {},
   "outputs": [
    {
     "data": {
      "text/plain": [
       "(210, 14)"
      ]
     },
     "execution_count": 216,
     "metadata": {},
     "output_type": "execute_result"
    }
   ],
   "source": [
    "polygons.shape"
   ]
  },
  {
   "cell_type": "code",
   "execution_count": 217,
   "id": "179975af",
   "metadata": {},
   "outputs": [
    {
     "data": {
      "text/plain": [
       "Index(['dma', 'AFFGEOID', 'GEOID', 'NAME', 'AreaSqKm', 'AreaSqMi', 'CentroidX',\n",
       "       'CentroidY', 'LengthKm', 'LengthMi', 'NumParts', 'PeanoKey', 'ObjType',\n",
       "       'geometry'],\n",
       "      dtype='object')"
      ]
     },
     "execution_count": 217,
     "metadata": {},
     "output_type": "execute_result"
    }
   ],
   "source": [
    "polygons.columns"
   ]
  },
  {
   "cell_type": "code",
   "execution_count": 218,
   "id": "ccf787d7",
   "metadata": {},
   "outputs": [],
   "source": [
    "df = pd.merge(polygons[['dma','NAME','geometry']],data_dma, on = ['dma'], how = 'left')"
   ]
  },
  {
   "cell_type": "code",
   "execution_count": 219,
   "id": "9bbec7fd",
   "metadata": {
    "scrolled": true
   },
   "outputs": [],
   "source": [
    "# Replace NaN with zeros\n",
    "df = df.fillna(0)"
   ]
  },
  {
   "cell_type": "code",
   "execution_count": 220,
   "id": "d9a2663a",
   "metadata": {},
   "outputs": [
    {
     "data": {
      "text/html": [
       "<div>\n",
       "<style scoped>\n",
       "    .dataframe tbody tr th:only-of-type {\n",
       "        vertical-align: middle;\n",
       "    }\n",
       "\n",
       "    .dataframe tbody tr th {\n",
       "        vertical-align: top;\n",
       "    }\n",
       "\n",
       "    .dataframe thead th {\n",
       "        text-align: right;\n",
       "    }\n",
       "</style>\n",
       "<table border=\"1\" class=\"dataframe\">\n",
       "  <thead>\n",
       "    <tr style=\"text-align: right;\">\n",
       "      <th></th>\n",
       "      <th>dma</th>\n",
       "      <th>NAME</th>\n",
       "      <th>geometry</th>\n",
       "      <th>vcr</th>\n",
       "    </tr>\n",
       "  </thead>\n",
       "  <tbody>\n",
       "    <tr>\n",
       "      <th>0</th>\n",
       "      <td>500</td>\n",
       "      <td>Portland-Auburn ME</td>\n",
       "      <td>MULTIPOLYGON (((-70.74656 43.08286, -70.74657 ...</td>\n",
       "      <td>1.921218</td>\n",
       "    </tr>\n",
       "    <tr>\n",
       "      <th>1</th>\n",
       "      <td>501</td>\n",
       "      <td>New York NY</td>\n",
       "      <td>MULTIPOLYGON (((-74.34928 39.51060, -74.34940 ...</td>\n",
       "      <td>2.259815</td>\n",
       "    </tr>\n",
       "    <tr>\n",
       "      <th>2</th>\n",
       "      <td>502</td>\n",
       "      <td>Binghamton NY</td>\n",
       "      <td>POLYGON ((-74.42828 42.34915, -74.42832 42.349...</td>\n",
       "      <td>0.000000</td>\n",
       "    </tr>\n",
       "    <tr>\n",
       "      <th>3</th>\n",
       "      <td>503</td>\n",
       "      <td>Macon GA</td>\n",
       "      <td>MULTIPOLYGON (((-84.36292 32.38945, -84.36404 ...</td>\n",
       "      <td>1.663627</td>\n",
       "    </tr>\n",
       "    <tr>\n",
       "      <th>4</th>\n",
       "      <td>504</td>\n",
       "      <td>Philadelphia PA</td>\n",
       "      <td>MULTIPOLYGON (((-75.56835 39.50072, -75.56850 ...</td>\n",
       "      <td>2.231649</td>\n",
       "    </tr>\n",
       "  </tbody>\n",
       "</table>\n",
       "</div>"
      ],
      "text/plain": [
       "   dma                NAME                                           geometry  \\\n",
       "0  500  Portland-Auburn ME  MULTIPOLYGON (((-70.74656 43.08286, -70.74657 ...   \n",
       "1  501         New York NY  MULTIPOLYGON (((-74.34928 39.51060, -74.34940 ...   \n",
       "2  502       Binghamton NY  POLYGON ((-74.42828 42.34915, -74.42832 42.349...   \n",
       "3  503            Macon GA  MULTIPOLYGON (((-84.36292 32.38945, -84.36404 ...   \n",
       "4  504     Philadelphia PA  MULTIPOLYGON (((-75.56835 39.50072, -75.56850 ...   \n",
       "\n",
       "        vcr  \n",
       "0  1.921218  \n",
       "1  2.259815  \n",
       "2  0.000000  \n",
       "3  1.663627  \n",
       "4  2.231649  "
      ]
     },
     "execution_count": 220,
     "metadata": {},
     "output_type": "execute_result"
    }
   ],
   "source": [
    "df.head()"
   ]
  },
  {
   "cell_type": "code",
   "execution_count": 221,
   "id": "fc3c0217",
   "metadata": {},
   "outputs": [
    {
     "data": {
      "text/plain": [
       "(210, 4)"
      ]
     },
     "execution_count": 221,
     "metadata": {},
     "output_type": "execute_result"
    }
   ],
   "source": [
    "df.shape"
   ]
  },
  {
   "cell_type": "code",
   "execution_count": 222,
   "id": "5fe0ddbf",
   "metadata": {},
   "outputs": [
    {
     "data": {
      "text/plain": [
       "dma            int64\n",
       "NAME          object\n",
       "geometry    geometry\n",
       "vcr          float64\n",
       "dtype: object"
      ]
     },
     "execution_count": 222,
     "metadata": {},
     "output_type": "execute_result"
    }
   ],
   "source": [
    "df.dtypes"
   ]
  },
  {
   "cell_type": "code",
   "execution_count": 223,
   "id": "8a28b31c",
   "metadata": {
    "scrolled": true
   },
   "outputs": [
    {
     "data": {
      "text/plain": [
       "dma         0\n",
       "NAME        0\n",
       "geometry    0\n",
       "vcr         0\n",
       "dtype: int64"
      ]
     },
     "execution_count": 223,
     "metadata": {},
     "output_type": "execute_result"
    }
   ],
   "source": [
    "df.isnull().sum()"
   ]
  },
  {
   "cell_type": "code",
   "execution_count": 224,
   "id": "6c38a9ff",
   "metadata": {},
   "outputs": [],
   "source": [
    "df['vcr_format'] = df['vcr'].map(\"{:,.3f}%\".format)\n",
    "df['vcr'] = df['vcr'].round(3)"
   ]
  },
  {
   "cell_type": "code",
   "execution_count": 225,
   "id": "dd32e382",
   "metadata": {},
   "outputs": [
    {
     "data": {
      "text/html": [
       "<div>\n",
       "<style scoped>\n",
       "    .dataframe tbody tr th:only-of-type {\n",
       "        vertical-align: middle;\n",
       "    }\n",
       "\n",
       "    .dataframe tbody tr th {\n",
       "        vertical-align: top;\n",
       "    }\n",
       "\n",
       "    .dataframe thead th {\n",
       "        text-align: right;\n",
       "    }\n",
       "</style>\n",
       "<table border=\"1\" class=\"dataframe\">\n",
       "  <thead>\n",
       "    <tr style=\"text-align: right;\">\n",
       "      <th></th>\n",
       "      <th>dma</th>\n",
       "      <th>NAME</th>\n",
       "      <th>geometry</th>\n",
       "      <th>vcr</th>\n",
       "      <th>vcr_format</th>\n",
       "    </tr>\n",
       "  </thead>\n",
       "  <tbody>\n",
       "    <tr>\n",
       "      <th>0</th>\n",
       "      <td>500</td>\n",
       "      <td>Portland-Auburn ME</td>\n",
       "      <td>MULTIPOLYGON (((-70.74656 43.08286, -70.74657 ...</td>\n",
       "      <td>1.921</td>\n",
       "      <td>1.921%</td>\n",
       "    </tr>\n",
       "    <tr>\n",
       "      <th>1</th>\n",
       "      <td>501</td>\n",
       "      <td>New York NY</td>\n",
       "      <td>MULTIPOLYGON (((-74.34928 39.51060, -74.34940 ...</td>\n",
       "      <td>2.260</td>\n",
       "      <td>2.260%</td>\n",
       "    </tr>\n",
       "    <tr>\n",
       "      <th>2</th>\n",
       "      <td>502</td>\n",
       "      <td>Binghamton NY</td>\n",
       "      <td>POLYGON ((-74.42828 42.34915, -74.42832 42.349...</td>\n",
       "      <td>0.000</td>\n",
       "      <td>0.000%</td>\n",
       "    </tr>\n",
       "    <tr>\n",
       "      <th>3</th>\n",
       "      <td>503</td>\n",
       "      <td>Macon GA</td>\n",
       "      <td>MULTIPOLYGON (((-84.36292 32.38945, -84.36404 ...</td>\n",
       "      <td>1.664</td>\n",
       "      <td>1.664%</td>\n",
       "    </tr>\n",
       "    <tr>\n",
       "      <th>4</th>\n",
       "      <td>504</td>\n",
       "      <td>Philadelphia PA</td>\n",
       "      <td>MULTIPOLYGON (((-75.56835 39.50072, -75.56850 ...</td>\n",
       "      <td>2.232</td>\n",
       "      <td>2.232%</td>\n",
       "    </tr>\n",
       "  </tbody>\n",
       "</table>\n",
       "</div>"
      ],
      "text/plain": [
       "   dma                NAME                                           geometry  \\\n",
       "0  500  Portland-Auburn ME  MULTIPOLYGON (((-70.74656 43.08286, -70.74657 ...   \n",
       "1  501         New York NY  MULTIPOLYGON (((-74.34928 39.51060, -74.34940 ...   \n",
       "2  502       Binghamton NY  POLYGON ((-74.42828 42.34915, -74.42832 42.349...   \n",
       "3  503            Macon GA  MULTIPOLYGON (((-84.36292 32.38945, -84.36404 ...   \n",
       "4  504     Philadelphia PA  MULTIPOLYGON (((-75.56835 39.50072, -75.56850 ...   \n",
       "\n",
       "     vcr vcr_format  \n",
       "0  1.921     1.921%  \n",
       "1  2.260     2.260%  \n",
       "2  0.000     0.000%  \n",
       "3  1.664     1.664%  \n",
       "4  2.232     2.232%  "
      ]
     },
     "execution_count": 225,
     "metadata": {},
     "output_type": "execute_result"
    }
   ],
   "source": [
    "df.head()"
   ]
  },
  {
   "cell_type": "code",
   "execution_count": 226,
   "id": "38d5e5a4",
   "metadata": {},
   "outputs": [
    {
     "data": {
      "text/html": [
       "<div>\n",
       "<style scoped>\n",
       "    .dataframe tbody tr th:only-of-type {\n",
       "        vertical-align: middle;\n",
       "    }\n",
       "\n",
       "    .dataframe tbody tr th {\n",
       "        vertical-align: top;\n",
       "    }\n",
       "\n",
       "    .dataframe thead th {\n",
       "        text-align: right;\n",
       "    }\n",
       "</style>\n",
       "<table border=\"1\" class=\"dataframe\">\n",
       "  <thead>\n",
       "    <tr style=\"text-align: right;\">\n",
       "      <th></th>\n",
       "      <th>dma</th>\n",
       "      <th>NAME</th>\n",
       "      <th>geometry</th>\n",
       "      <th>vcr</th>\n",
       "      <th>vcr_format</th>\n",
       "    </tr>\n",
       "  </thead>\n",
       "  <tbody>\n",
       "    <tr>\n",
       "      <th>0</th>\n",
       "      <td>500</td>\n",
       "      <td>Portland-Auburn ME</td>\n",
       "      <td>MULTIPOLYGON (((-70.74656 43.08286, -70.74657 ...</td>\n",
       "      <td>1.921</td>\n",
       "      <td>1.921%</td>\n",
       "    </tr>\n",
       "    <tr>\n",
       "      <th>1</th>\n",
       "      <td>501</td>\n",
       "      <td>New York NY</td>\n",
       "      <td>MULTIPOLYGON (((-74.34928 39.51060, -74.34940 ...</td>\n",
       "      <td>2.260</td>\n",
       "      <td>2.260%</td>\n",
       "    </tr>\n",
       "    <tr>\n",
       "      <th>2</th>\n",
       "      <td>502</td>\n",
       "      <td>Binghamton NY</td>\n",
       "      <td>POLYGON ((-74.42828 42.34915, -74.42832 42.349...</td>\n",
       "      <td>0.000</td>\n",
       "      <td>0.000%</td>\n",
       "    </tr>\n",
       "    <tr>\n",
       "      <th>3</th>\n",
       "      <td>503</td>\n",
       "      <td>Macon GA</td>\n",
       "      <td>MULTIPOLYGON (((-84.36292 32.38945, -84.36404 ...</td>\n",
       "      <td>1.664</td>\n",
       "      <td>1.664%</td>\n",
       "    </tr>\n",
       "    <tr>\n",
       "      <th>4</th>\n",
       "      <td>504</td>\n",
       "      <td>Philadelphia PA</td>\n",
       "      <td>MULTIPOLYGON (((-75.56835 39.50072, -75.56850 ...</td>\n",
       "      <td>2.232</td>\n",
       "      <td>2.232%</td>\n",
       "    </tr>\n",
       "  </tbody>\n",
       "</table>\n",
       "</div>"
      ],
      "text/plain": [
       "   dma                NAME                                           geometry  \\\n",
       "0  500  Portland-Auburn ME  MULTIPOLYGON (((-70.74656 43.08286, -70.74657 ...   \n",
       "1  501         New York NY  MULTIPOLYGON (((-74.34928 39.51060, -74.34940 ...   \n",
       "2  502       Binghamton NY  POLYGON ((-74.42828 42.34915, -74.42832 42.349...   \n",
       "3  503            Macon GA  MULTIPOLYGON (((-84.36292 32.38945, -84.36404 ...   \n",
       "4  504     Philadelphia PA  MULTIPOLYGON (((-75.56835 39.50072, -75.56850 ...   \n",
       "\n",
       "     vcr vcr_format  \n",
       "0  1.921     1.921%  \n",
       "1  2.260     2.260%  \n",
       "2  0.000     0.000%  \n",
       "3  1.664     1.664%  \n",
       "4  2.232     2.232%  "
      ]
     },
     "execution_count": 226,
     "metadata": {},
     "output_type": "execute_result"
    }
   ],
   "source": [
    "df = df.to_crs(\"EPSG:4326\")\n",
    "df.head()"
   ]
  },
  {
   "cell_type": "code",
   "execution_count": 227,
   "id": "8a0c9130",
   "metadata": {},
   "outputs": [
    {
     "data": {
      "text/plain": [
       "<Geographic 2D CRS: EPSG:4326>\n",
       "Name: WGS 84\n",
       "Axis Info [ellipsoidal]:\n",
       "- Lat[north]: Geodetic latitude (degree)\n",
       "- Lon[east]: Geodetic longitude (degree)\n",
       "Area of Use:\n",
       "- name: World.\n",
       "- bounds: (-180.0, -90.0, 180.0, 90.0)\n",
       "Datum: World Geodetic System 1984 ensemble\n",
       "- Ellipsoid: WGS 84\n",
       "- Prime Meridian: Greenwich"
      ]
     },
     "execution_count": 227,
     "metadata": {},
     "output_type": "execute_result"
    }
   ],
   "source": [
    "df.crs"
   ]
  },
  {
   "cell_type": "code",
   "execution_count": 228,
   "id": "560297a7",
   "metadata": {},
   "outputs": [],
   "source": [
    "# the bigger the tolerance, the worst the quality\n",
    "df['geometry']=df['geometry'].simplify(tolerance = 0.005, preserve_topology = True)"
   ]
  },
  {
   "cell_type": "code",
   "execution_count": 229,
   "id": "e863658e",
   "metadata": {},
   "outputs": [
    {
     "data": {
      "text/plain": [
       "dma              int64\n",
       "NAME            object\n",
       "geometry      geometry\n",
       "vcr            float64\n",
       "vcr_format      object\n",
       "dtype: object"
      ]
     },
     "execution_count": 229,
     "metadata": {},
     "output_type": "execute_result"
    }
   ],
   "source": [
    "df.dtypes"
   ]
  },
  {
   "cell_type": "code",
   "execution_count": 230,
   "id": "8c9cc43a",
   "metadata": {},
   "outputs": [],
   "source": [
    "df.to_file(\"../static/data/dma_map.geojson\",driver='GeoJSON')"
   ]
  }
 ],
 "metadata": {
  "kernelspec": {
   "display_name": "Python 3 (ipykernel)",
   "language": "python",
   "name": "python3"
  },
  "language_info": {
   "codemirror_mode": {
    "name": "ipython",
    "version": 3
   },
   "file_extension": ".py",
   "mimetype": "text/x-python",
   "name": "python",
   "nbconvert_exporter": "python",
   "pygments_lexer": "ipython3",
   "version": "3.8.12"
  }
 },
 "nbformat": 4,
 "nbformat_minor": 5
}
